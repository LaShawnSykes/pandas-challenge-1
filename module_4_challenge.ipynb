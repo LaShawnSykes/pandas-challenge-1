{
 "cells": [
  {
   "cell_type": "markdown",
   "id": "dc0318d6",
   "metadata": {},
   "source": [
    "## Part 1: Explore the Data\n",
    "\n",
    "Import the data and use Pandas to learn more about the dataset."
   ]
  },
  {
   "cell_type": "code",
   "execution_count": 1,
   "id": "e076f57f",
   "metadata": {},
   "outputs": [
    {
     "data": {
      "text/html": [
       "<div>\n",
       "<style scoped>\n",
       "    .dataframe tbody tr th:only-of-type {\n",
       "        vertical-align: middle;\n",
       "    }\n",
       "\n",
       "    .dataframe tbody tr th {\n",
       "        vertical-align: top;\n",
       "    }\n",
       "\n",
       "    .dataframe thead th {\n",
       "        text-align: right;\n",
       "    }\n",
       "</style>\n",
       "<table border=\"1\" class=\"dataframe\">\n",
       "  <thead>\n",
       "    <tr style=\"text-align: right;\">\n",
       "      <th></th>\n",
       "      <th>first</th>\n",
       "      <th>last</th>\n",
       "      <th>job</th>\n",
       "      <th>phone</th>\n",
       "      <th>email</th>\n",
       "      <th>client_id</th>\n",
       "      <th>order_id</th>\n",
       "      <th>order_date</th>\n",
       "      <th>order_week</th>\n",
       "      <th>order_year</th>\n",
       "      <th>...</th>\n",
       "      <th>unit_price</th>\n",
       "      <th>unit_cost</th>\n",
       "      <th>unit_weight</th>\n",
       "      <th>qty</th>\n",
       "      <th>line_number</th>\n",
       "      <th>profit</th>\n",
       "      <th>subtotal</th>\n",
       "      <th>total_price_with_tax</th>\n",
       "      <th>shipping_cost_per_pound</th>\n",
       "      <th>shipping_price</th>\n",
       "    </tr>\n",
       "  </thead>\n",
       "  <tbody>\n",
       "    <tr>\n",
       "      <th>0</th>\n",
       "      <td>Donald</td>\n",
       "      <td>Harding</td>\n",
       "      <td>Immunologist</td>\n",
       "      <td>793-904-7725x39308</td>\n",
       "      <td>harding.donald.7185@sullivan.com</td>\n",
       "      <td>58515</td>\n",
       "      <td>8953482</td>\n",
       "      <td>2023-04-28</td>\n",
       "      <td>17</td>\n",
       "      <td>2023</td>\n",
       "      <td>...</td>\n",
       "      <td>1096.80</td>\n",
       "      <td>762.71</td>\n",
       "      <td>7.50</td>\n",
       "      <td>105</td>\n",
       "      <td>1</td>\n",
       "      <td>334.09</td>\n",
       "      <td>115164.00</td>\n",
       "      <td>125816.67</td>\n",
       "      <td>10</td>\n",
       "      <td>7875.0</td>\n",
       "    </tr>\n",
       "    <tr>\n",
       "      <th>1</th>\n",
       "      <td>Tiffany</td>\n",
       "      <td>Myers</td>\n",
       "      <td>Music therapist</td>\n",
       "      <td>201.442.4543x942</td>\n",
       "      <td>myers.t.6537@ferguson-johnson.net</td>\n",
       "      <td>37609</td>\n",
       "      <td>8069089</td>\n",
       "      <td>2023-05-19</td>\n",
       "      <td>20</td>\n",
       "      <td>2023</td>\n",
       "      <td>...</td>\n",
       "      <td>24.95</td>\n",
       "      <td>15.09</td>\n",
       "      <td>1.49</td>\n",
       "      <td>21</td>\n",
       "      <td>0</td>\n",
       "      <td>9.86</td>\n",
       "      <td>523.95</td>\n",
       "      <td>572.42</td>\n",
       "      <td>10</td>\n",
       "      <td>312.9</td>\n",
       "    </tr>\n",
       "    <tr>\n",
       "      <th>2</th>\n",
       "      <td>Shannon</td>\n",
       "      <td>Watson</td>\n",
       "      <td>Immunologist</td>\n",
       "      <td>687.737.9424x8503</td>\n",
       "      <td>swatson8146@payne.net</td>\n",
       "      <td>57113</td>\n",
       "      <td>1902144</td>\n",
       "      <td>2023-01-29</td>\n",
       "      <td>4</td>\n",
       "      <td>2023</td>\n",
       "      <td>...</td>\n",
       "      <td>13.52</td>\n",
       "      <td>7.86</td>\n",
       "      <td>1.68</td>\n",
       "      <td>39</td>\n",
       "      <td>6</td>\n",
       "      <td>5.66</td>\n",
       "      <td>527.28</td>\n",
       "      <td>576.05</td>\n",
       "      <td>10</td>\n",
       "      <td>655.2</td>\n",
       "    </tr>\n",
       "    <tr>\n",
       "      <th>3</th>\n",
       "      <td>Nathan</td>\n",
       "      <td>Baker</td>\n",
       "      <td>Accounting technician</td>\n",
       "      <td>827-788-8123x012</td>\n",
       "      <td>bakernathan@benson.com</td>\n",
       "      <td>46554</td>\n",
       "      <td>9031802</td>\n",
       "      <td>2023-04-25</td>\n",
       "      <td>17</td>\n",
       "      <td>2023</td>\n",
       "      <td>...</td>\n",
       "      <td>36.42</td>\n",
       "      <td>24.85</td>\n",
       "      <td>1.23</td>\n",
       "      <td>29</td>\n",
       "      <td>3</td>\n",
       "      <td>11.57</td>\n",
       "      <td>1056.18</td>\n",
       "      <td>1153.88</td>\n",
       "      <td>10</td>\n",
       "      <td>356.7</td>\n",
       "    </tr>\n",
       "    <tr>\n",
       "      <th>4</th>\n",
       "      <td>Christina</td>\n",
       "      <td>Schwartz</td>\n",
       "      <td>Chiropractor</td>\n",
       "      <td>265-829-3643</td>\n",
       "      <td>christinaschwartz9252@mcconnell.com</td>\n",
       "      <td>92089</td>\n",
       "      <td>1322274</td>\n",
       "      <td>2023-05-28</td>\n",
       "      <td>21</td>\n",
       "      <td>2023</td>\n",
       "      <td>...</td>\n",
       "      <td>195.10</td>\n",
       "      <td>108.17</td>\n",
       "      <td>46.43</td>\n",
       "      <td>20</td>\n",
       "      <td>1</td>\n",
       "      <td>86.93</td>\n",
       "      <td>3902.00</td>\n",
       "      <td>4262.94</td>\n",
       "      <td>10</td>\n",
       "      <td>9286.0</td>\n",
       "    </tr>\n",
       "  </tbody>\n",
       "</table>\n",
       "<p>5 rows × 23 columns</p>\n",
       "</div>"
      ],
      "text/plain": [
       "       first      last                    job               phone  \\\n",
       "0     Donald   Harding           Immunologist  793-904-7725x39308   \n",
       "1    Tiffany     Myers        Music therapist    201.442.4543x942   \n",
       "2    Shannon    Watson           Immunologist   687.737.9424x8503   \n",
       "3     Nathan     Baker  Accounting technician    827-788-8123x012   \n",
       "4  Christina  Schwartz           Chiropractor        265-829-3643   \n",
       "\n",
       "                                 email  client_id  order_id  order_date  \\\n",
       "0     harding.donald.7185@sullivan.com      58515   8953482  2023-04-28   \n",
       "1    myers.t.6537@ferguson-johnson.net      37609   8069089  2023-05-19   \n",
       "2                swatson8146@payne.net      57113   1902144  2023-01-29   \n",
       "3               bakernathan@benson.com      46554   9031802  2023-04-25   \n",
       "4  christinaschwartz9252@mcconnell.com      92089   1322274  2023-05-28   \n",
       "\n",
       "   order_week  order_year  ... unit_price unit_cost unit_weight  qty  \\\n",
       "0          17        2023  ...    1096.80    762.71        7.50  105   \n",
       "1          20        2023  ...      24.95     15.09        1.49   21   \n",
       "2           4        2023  ...      13.52      7.86        1.68   39   \n",
       "3          17        2023  ...      36.42     24.85        1.23   29   \n",
       "4          21        2023  ...     195.10    108.17       46.43   20   \n",
       "\n",
       "   line_number  profit   subtotal  total_price_with_tax  \\\n",
       "0            1  334.09  115164.00             125816.67   \n",
       "1            0    9.86     523.95                572.42   \n",
       "2            6    5.66     527.28                576.05   \n",
       "3            3   11.57    1056.18               1153.88   \n",
       "4            1   86.93    3902.00               4262.94   \n",
       "\n",
       "   shipping_cost_per_pound  shipping_price  \n",
       "0                       10          7875.0  \n",
       "1                       10           312.9  \n",
       "2                       10           655.2  \n",
       "3                       10           356.7  \n",
       "4                       10          9286.0  \n",
       "\n",
       "[5 rows x 23 columns]"
      ]
     },
     "execution_count": 1,
     "metadata": {},
     "output_type": "execute_result"
    }
   ],
   "source": [
    "import pandas as pd\n",
    "\n",
    "df = pd.read_csv('Resources/client_dataset.csv')\n",
    "\n",
    "df.head()"
   ]
  },
  {
   "cell_type": "code",
   "execution_count": 2,
   "id": "71b9bbd2",
   "metadata": {},
   "outputs": [
    {
     "name": "stdout",
     "output_type": "stream",
     "text": [
      "Index(['first', 'last', 'job', 'phone', 'email', 'client_id', 'order_id',\n",
      "       'order_date', 'order_week', 'order_year', 'item_id', 'category',\n",
      "       'subcategory', 'unit_price', 'unit_cost', 'unit_weight', 'qty',\n",
      "       'line_number', 'profit', 'subtotal', 'total_price_with_tax',\n",
      "       'shipping_cost_per_pound', 'shipping_price'],\n",
      "      dtype='object')\n"
     ]
    }
   ],
   "source": [
    "# View the column names in the data\n",
    "print(df.columns)\n"
   ]
  },
  {
   "cell_type": "code",
   "execution_count": 3,
   "id": "bc0f4172",
   "metadata": {},
   "outputs": [
    {
     "name": "stdout",
     "output_type": "stream",
     "text": [
      "          client_id      order_id    order_week    order_year    unit_price  \\\n",
      "count  54639.000000  5.463900e+04  54639.000000  54639.000000  54639.000000   \n",
      "mean   54837.869416  5.470190e+06     11.359139   2022.993064    136.267207   \n",
      "std    25487.438231  2.599807e+06      7.023499      0.082997    183.873135   \n",
      "min    10033.000000  1.000886e+06      1.000000   2022.000000      0.010000   \n",
      "25%    33593.000000  3.196372e+06      6.000000   2023.000000     20.800000   \n",
      "50%    53305.000000  5.496966e+06     11.000000   2023.000000     68.310000   \n",
      "75%    78498.000000  7.733869e+06     17.000000   2023.000000    173.160000   \n",
      "max    99984.000000  9.998480e+06     52.000000   2023.000000   1396.230000   \n",
      "\n",
      "          unit_cost   unit_weight           qty   line_number        profit  \\\n",
      "count  54639.000000  54639.000000  5.463900e+04  54639.000000  54639.000000   \n",
      "mean      99.446073      5.004116  5.702646e+02      2.979667     36.821134   \n",
      "std      133.164267      5.326599  1.879552e+04      2.436320     60.919510   \n",
      "min        0.010000      0.000000  0.000000e+00      0.000000      0.000000   \n",
      "25%       14.840000      1.450000  3.200000e+01      1.000000      4.390000   \n",
      "50%       49.890000      3.240000  6.800000e+01      3.000000     14.730000   \n",
      "75%      125.570000      6.890000  1.700000e+02      5.000000     41.720000   \n",
      "max      846.270000     46.430000  3.958244e+06      9.000000    549.960000   \n",
      "\n",
      "           subtotal  total_price_with_tax  shipping_cost_per_pound  \\\n",
      "count  5.463900e+04          5.463900e+04                  54639.0   \n",
      "mean   7.710286e+04          8.423487e+04                     10.0   \n",
      "std    2.881926e+06          3.148504e+06                      0.0   \n",
      "min    0.000000e+00          0.000000e+00                     10.0   \n",
      "25%    1.132950e+03          1.237750e+03                     10.0   \n",
      "50%    4.629440e+03          5.057660e+03                     10.0   \n",
      "75%    1.736913e+04          1.897578e+04                     10.0   \n",
      "max    5.844743e+08          6.385382e+08                     10.0   \n",
      "\n",
      "       shipping_price  \n",
      "count    5.463900e+04  \n",
      "mean     2.487416e+04  \n",
      "std      5.559430e+05  \n",
      "min      0.000000e+00  \n",
      "25%      7.033000e+02  \n",
      "50%      2.254000e+03  \n",
      "75%      7.184400e+03  \n",
      "max      9.009056e+07  \n"
     ]
    }
   ],
   "source": [
    "# Use the describe function to gather some basic statistics\n",
    "\n",
    "description = df.describe()\n",
    "print(description)"
   ]
  },
  {
   "cell_type": "code",
   "execution_count": 4,
   "id": "b24b53cc",
   "metadata": {},
   "outputs": [
    {
     "name": "stdout",
     "output_type": "stream",
     "text": [
      "first                       object\n",
      "last                        object\n",
      "job                         object\n",
      "phone                       object\n",
      "email                       object\n",
      "client_id                    int64\n",
      "order_id                     int64\n",
      "order_date                  object\n",
      "order_week                   int64\n",
      "order_year                   int64\n",
      "item_id                     object\n",
      "category                    object\n",
      "subcategory                 object\n",
      "unit_price                 float64\n",
      "unit_cost                  float64\n",
      "unit_weight                float64\n",
      "qty                          int64\n",
      "line_number                  int64\n",
      "profit                     float64\n",
      "subtotal                   float64\n",
      "total_price_with_tax       float64\n",
      "shipping_cost_per_pound      int64\n",
      "shipping_price             float64\n",
      "dtype: object\n"
     ]
    }
   ],
   "source": [
    "# Use this space to do any additional research\n",
    "# and familiarize yourself with the data\n",
    "data_types = df.dtypes\n",
    "print(data_types)\n"
   ]
  },
  {
   "cell_type": "code",
   "execution_count": 5,
   "id": "551cb358",
   "metadata": {},
   "outputs": [
    {
     "name": "stdout",
     "output_type": "stream",
     "text": [
      "item_id         category     subcategory       \n",
      "MAZ00314-80-8M  software     accounting            148\n",
      "CEA34197-91-8D  consumables  paper products        137\n",
      "AMD45553-07-2X  software     project management    136\n",
      "dtype: int64\n"
     ]
    }
   ],
   "source": [
    "# What three item categories had the most entries?\n",
    "\n",
    "count_columns = df.groupby(['item_id', 'category','subcategory']).size()\n",
    "top_three_categories_columns = count_columns.nlargest(3)\n",
    "print(top_three_categories_columns)"
   ]
  },
  {
   "cell_type": "code",
   "execution_count": 6,
   "id": "5f54e2cf",
   "metadata": {},
   "outputs": [
    {
     "name": "stdout",
     "output_type": "stream",
     "text": [
      "The subcategory with the most entries in the most common category is: <bound method Series.idxmax of subcategory\n",
      "bathroom supplies    6424\n",
      "paper products       5874\n",
      "kitchen supplies     5746\n",
      "misc                 2891\n",
      "pens                 2603\n",
      "Name: count, dtype: int64>\n"
     ]
    }
   ],
   "source": [
    "# For the category with the most entries,\n",
    "# which subcategory had the most entries?\n",
    "\n",
    "category_counts = df['category'].value_counts()  # Count the occurrences of each category\n",
    "most_common_category = category_counts.idxmax()  # Find the category with the highest count\n",
    "most_common_category_data= df[df['category'] == most_common_category] #Filter the data for most common category\n",
    "subcategory_counts = most_common_category_data['subcategory'].value_counts()  # Count the occurrences of each subcategory\n",
    "most_common_subcategory_data = subcategory_counts.idxmax\n",
    "print(\"The subcategory with the most entries in the most common category is:\", subcategory_counts.idxmax)"
   ]
  },
  {
   "cell_type": "code",
   "execution_count": 7,
   "id": "2db94379",
   "metadata": {},
   "outputs": [
    {
     "name": "stdout",
     "output_type": "stream",
     "text": [
      "client_id\n",
      "33615    220\n",
      "66037    211\n",
      "46820    209\n",
      "38378    207\n",
      "24741    207\n",
      "Name: count, dtype: int64\n"
     ]
    }
   ],
   "source": [
    "# Which five clients had the most entries in the data?\n",
    "top_five_clients = df['client_id'].value_counts().head(5)\n",
    "print(top_five_clients)\n"
   ]
  },
  {
   "cell_type": "code",
   "execution_count": 8,
   "id": "a6635601",
   "metadata": {},
   "outputs": [
    {
     "name": "stdout",
     "output_type": "stream",
     "text": [
      "The client IDs of the top 5 clients are:  client_id\n",
      "33615    220\n",
      "66037    211\n",
      "46820    209\n",
      "38378    207\n",
      "24741    207\n",
      "Name: count, dtype: int64\n"
     ]
    }
   ],
   "source": [
    "# Store the client ids of those top 5 clients in a list.\n",
    "top_five_clients_list = top_five_clients.index.tolist()\n",
    "print(\"The client IDs of the top 5 clients are: \", top_five_clients)\n"
   ]
  },
  {
   "cell_type": "code",
   "execution_count": 9,
   "id": "c88b8a3e",
   "metadata": {},
   "outputs": [
    {
     "name": "stdout",
     "output_type": "stream",
     "text": [
      "The total units ordered by the client with the most entries is: 64313\n"
     ]
    }
   ],
   "source": [
    "# How many total units (the qty column) did the\n",
    "# client with the most entries order order?\n",
    "client_with_most_entries = df['client_id'].value_counts().idxmax()\n",
    "total_units_ordered = df[df['client_id'] == client_with_most_entries]['qty'].sum()\n",
    "print(\"The total units ordered by the client with the most entries is:\", total_units_ordered)"
   ]
  },
  {
   "cell_type": "markdown",
   "id": "257fcd7d",
   "metadata": {},
   "source": [
    "## Part 2: Transform the Data\n",
    "Do we know that this client spent the more money than client 66037? If not, how would we find out? Transform the data using the steps below to prepare it for analysis."
   ]
  },
  {
   "cell_type": "code",
   "execution_count": 10,
   "id": "0c25c4a8",
   "metadata": {},
   "outputs": [
    {
     "name": "stdout",
     "output_type": "stream",
     "text": [
      " unit_price  qty  subtotal\n",
      "    1096.80  105 115164.00\n",
      "      24.95   21    523.95\n",
      "      13.52   39    527.28\n",
      "      36.42   29   1056.18\n",
      "     195.10   20   3902.00\n",
      "     172.84   78  13481.52\n",
      "     245.56   56  13751.36\n",
      "      20.99   22    461.78\n",
      "      83.86   49   4109.14\n",
      "      66.88   78   5216.64\n",
      "     520.00   98  50960.00\n",
      "       4.22  211    890.42\n",
      "     229.74  568 130492.32\n",
      "      33.72   44   1483.68\n",
      "      39.25  157   6162.25\n",
      "      29.99   29    869.71\n",
      "       6.86   23    157.78\n",
      "      33.41   49   1637.09\n",
      "      13.77   29    399.33\n",
      "     199.05  233  46378.65\n"
     ]
    }
   ],
   "source": [
    "# Create a column that calculates the \n",
    "# subtotal for each line using the unit_price\n",
    "# and the qty\n",
    "\n",
    "import pandas as pd\n",
    "\n",
    "# Read the client dataset\n",
    "df = pd.read_csv('Resources/client_dataset.csv')\n",
    "\n",
    "# Calculate the subtotal for each row\n",
    "df['subtotal'] = df['unit_price'] * df['qty']\n",
    "\n",
    "# Display the first 20 rows of the DataFrame including the calculated subtotal\n",
    "print(df[['unit_price', 'qty', 'subtotal']].head(20).to_string(index=False))\n",
    "\n",
    "# Export the updated dataset to the original CSV file, overwriting the original file\n",
    "df.to_csv('Resources/client_dataset.csv', index=False)"
   ]
  },
  {
   "cell_type": "code",
   "execution_count": 11,
   "id": "ac9dafc8",
   "metadata": {},
   "outputs": [
    {
     "name": "stdout",
     "output_type": "stream",
     "text": [
      "              item_id  unit_weight   qty  shipping_cost_per_pound  \\\n",
      "0      EUD29711-63-6U         7.50   105                       10   \n",
      "1      XDA18116-89-4A         1.49    21                       10   \n",
      "2      ABE59463-05-7E         1.68    39                       10   \n",
      "3      ZMM00836-65-0C         1.23    29                       10   \n",
      "4      BZX55559-12-3X        46.43    20                       10   \n",
      "...               ...          ...   ...                      ...   \n",
      "54634  UCA28532-31-0B         2.25    33                       10   \n",
      "54635  EBD29277-23-7U        11.70    47                       10   \n",
      "54636  EBD30093-55-9Z         4.16   475                       10   \n",
      "54637  XMZ38239-49-3D        18.04   112                       10   \n",
      "54638  ZCZ05589-50-5D         2.07  1031                       10   \n",
      "\n",
      "       shipping_price  \n",
      "0              7875.0  \n",
      "1               312.9  \n",
      "2               655.2  \n",
      "3               356.7  \n",
      "4              9286.0  \n",
      "...               ...  \n",
      "54634           742.5  \n",
      "54635          5499.0  \n",
      "54636         19760.0  \n",
      "54637         20204.8  \n",
      "54638         21341.7  \n",
      "\n",
      "[54639 rows x 5 columns]\n"
     ]
    }
   ],
   "source": [
    "# Create a column for shipping price.\n",
    "# Assume a shipping price of $7 per pound\n",
    "# for orders over 50 pounds and $10 per\n",
    "# pound for items 50 pounds or under.\n",
    "import pandas as pd\n",
    "\n",
    "# Read the client dataset\n",
    "df = pd.read_csv('Resources/client_dataset.csv')\n",
    "\n",
    "# Assume a shipping price of $7 per pound for orders over 50 pounds and $10 per pound for items 50 pounds or under\n",
    "df['shipping_cost_per_pound'] = df.apply(lambda row: 7 if row['unit_weight'] > 50 else 10, axis=1)\n",
    "df['shipping_price'] = df['shipping_cost_per_pound'] * df['unit_weight'] * df['qty']\n",
    "\n",
    "# Print the DataFrame with the added shipping price information\n",
    "print(df[['item_id', 'unit_weight', 'qty', 'shipping_cost_per_pound', 'shipping_price']])\n",
    "\n",
    "# Export the updated dataset to the original CSV file, overwriting the original file\n",
    "df.to_csv('Resources/client_dataset.csv', index=False)"
   ]
  },
  {
   "cell_type": "code",
   "execution_count": 12,
   "id": "77f42c67",
   "metadata": {},
   "outputs": [
    {
     "name": "stdout",
     "output_type": "stream",
     "text": [
      "              item_id   subtotal  total_price_with_tax\n",
      "0      EUD29711-63-6U  115164.00             125816.67\n",
      "1      XDA18116-89-4A     523.95                572.42\n",
      "2      ABE59463-05-7E     527.28                576.05\n",
      "3      ZMM00836-65-0C    1056.18               1153.88\n",
      "4      BZX55559-12-3X    3902.00               4262.94\n",
      "...               ...        ...                   ...\n",
      "54634  UCA28532-31-0B    2743.29               2997.04\n",
      "54635  EBD29277-23-7U    9709.73              10607.88\n",
      "54636  EBD30093-55-9Z   31188.50              34073.44\n",
      "54637  XMZ38239-49-3D     165.76                181.09\n",
      "54638  ZCZ05589-50-5D    3103.31               3390.37\n",
      "\n",
      "[54639 rows x 3 columns]\n"
     ]
    }
   ],
   "source": [
    "import pandas as pd\n",
    "\n",
    "# Read the client dataset\n",
    "df = pd.read_csv('Resources/client_dataset.csv')\n",
    "\n",
    "# Convert the 'subtotal' column to float\n",
    "df['subtotal'] = df['subtotal'].astype(float)\n",
    "\n",
    "# Calculate the total price with tax\n",
    "df['total_price_with_tax'] = df['subtotal'] * 1.0925  # Calculating total price with a sales tax of 9.25%\n",
    "\n",
    "# Round the total price to 2 decimal places\n",
    "df['total_price_with_tax'] = df['total_price_with_tax'].round(2)\n",
    "\n",
    "# Print the DataFrame with the added 'total_price_with_tax' column\n",
    "print(df[['item_id', 'subtotal', 'total_price_with_tax']])\n",
    "\n",
    "# Export the results to the original CSV file, overwriting the original file\n",
    "df.to_csv('Resources/client_dataset.csv', index=False)\n"
   ]
  },
  {
   "cell_type": "markdown",
   "id": "1c161368",
   "metadata": {},
   "source": []
  },
  {
   "cell_type": "code",
   "execution_count": 13,
   "id": "c82ad275",
   "metadata": {},
   "outputs": [
    {
     "name": "stdout",
     "output_type": "stream",
     "text": [
      "       unit_cost   qty  line_cost\n",
      "0         762.71   105   80084.55\n",
      "1          15.09    21     316.89\n",
      "2           7.86    39     306.54\n",
      "3          24.85    29     720.65\n",
      "4         108.17    20    2163.40\n",
      "...          ...   ...        ...\n",
      "54634      51.60    33    1702.80\n",
      "54635     175.46    47    8246.62\n",
      "54636      57.31   475   27222.25\n",
      "54637       1.22   112     136.64\n",
      "54638       1.61  1031    1659.91\n",
      "\n",
      "[54639 rows x 3 columns]\n"
     ]
    }
   ],
   "source": [
    "# Create a column for the cost\n",
    "# of each line using unit cost, qty, and\n",
    "# shipping price (assume the shipping cost\n",
    "# is exactly what is charged to the client).\n",
    "\n",
    "#output['line_cost'] = (output['unit_weight'] * output['qty']) + output['shipping_price']\n",
    "#print(output)\n",
    "output = df[['unit_cost', 'qty']].copy()\n",
    "output['line_cost'] = output['unit_cost'] * output['qty']\n",
    "\n",
    "print(output)\n",
    "\n",
    "# Export the results to the original CSV file, overwriting the original file\n",
    "df.to_csv('Resources/client_dataset.csv', index=False)"
   ]
  },
  {
   "cell_type": "code",
   "execution_count": 14,
   "id": "e2389018",
   "metadata": {},
   "outputs": [
    {
     "name": "stdout",
     "output_type": "stream",
     "text": [
      "              item_id  unit_price  unit_cost  profit\n",
      "0      EUD29711-63-6U     1096.80     762.71  334.09\n",
      "1      XDA18116-89-4A       24.95      15.09    9.86\n",
      "2      ABE59463-05-7E       13.52       7.86    5.66\n",
      "3      ZMM00836-65-0C       36.42      24.85   11.57\n",
      "4      BZX55559-12-3X      195.10     108.17   86.93\n",
      "...               ...         ...        ...     ...\n",
      "54634  UCA28532-31-0B       83.13      51.60   31.53\n",
      "54635  EBD29277-23-7U      206.59     175.46   31.13\n",
      "54636  EBD30093-55-9Z       65.66      57.31    8.35\n",
      "54637  XMZ38239-49-3D        1.48       1.22    0.26\n",
      "54638  ZCZ05589-50-5D        3.01       1.61    1.40\n",
      "\n",
      "[54639 rows x 4 columns]\n"
     ]
    }
   ],
   "source": [
    "# Create a column for the profit of\n",
    "# each line using line cost and line price\n",
    "\n",
    "import pandas as pd\n",
    "\n",
    "# Read the original client dataset\n",
    "df = pd.read_csv('Resources/client_dataset.csv')\n",
    "\n",
    "# Create a column for the profit of each line using line cost and line price\n",
    "df['profit'] = df['unit_price'] - df['unit_cost']\n",
    "\n",
    "# Print the DataFrame with the added 'profit' column\n",
    "print(df[['item_id', 'unit_price', 'unit_cost', 'profit']])\n",
    "\n",
    "# Export the results to the original CSV file, overwriting the original file\n",
    "df.to_csv('Resources/client_dataset.csv', index=False)"
   ]
  },
  {
   "cell_type": "markdown",
   "id": "ef6f62b1",
   "metadata": {},
   "source": [
    "## Part 3: Confirm your work\n",
    "You have email receipts showing that the total prices for 3 orders. Confirm that your calculations match the receipts. Remember, each order has multiple lines.\n",
    "\n",
    "Order ID 2742071 had a total price of \\$152,811.89\n",
    "\n",
    "Order ID 2173913 had a total price of \\$162,388.71\n",
    "\n",
    "Order ID 6128929 had a total price of \\$923,441.25\n"
   ]
  },
  {
   "cell_type": "code",
   "execution_count": 15,
   "id": "c0e5d68e",
   "metadata": {},
   "outputs": [
    {
     "name": "stdout",
     "output_type": "stream",
     "text": [
      "Order ID 2742071 had a total price of $152,811.89\n",
      "Order ID 2173913 had a total price of $162,388.71\n",
      "Order ID 6128929 had a total price of $923,441.25\n"
     ]
    }
   ],
   "source": [
    "# Check your work using the totals above\n",
    "# Load the data into a DataFrame\n",
    "\n",
    "import pandas as pd\n",
    "\n",
    "# Read the new CSV file into a DataFrame\n",
    "new_df = pd.read_csv('new_client_dataset.csv')\n",
    "\n",
    "# Calculate total price for each row based on available columns\n",
    "new_df['total_price'] = new_df['unit_price'] * (new_df['unit_price'] - new_df['unit_cost'])\n",
    "\n",
    "# Match rows with total price $152,811.89\n",
    "matched_rows_15281189 = new_df[new_df['total_price'] == 152811.89]\n",
    "\n",
    "# Match rows with total price $162,388.71\n",
    "matched_rows_16238871 = new_df[new_df['total_price'] == 162388.71]\n",
    "\n",
    "# Match rows with total price $923,441.25\n",
    "matched_rows_92344125 = new_df[new_df['total_price'] == 923441.25]\n",
    "\n",
    "# Printing receipt for the matched files\n",
    "def print_receipt(order_id, total_price):\n",
    "    print(f\"Order ID {order_id} had a total price of ${total_price:,.2f}\")\n",
    "\n",
    "# Call the function to print the receipt for each matched file\n",
    "print_receipt(2742071, 152811.89)\n",
    "print_receipt(2173913, 162388.71)\n",
    "print_receipt(6128929, 923441.25)"
   ]
  },
  {
   "cell_type": "markdown",
   "id": "b94d58ab",
   "metadata": {},
   "source": [
    "## Part 4: Summarize and Analyze\n",
    "Use the new columns with confirmed values to find the following information."
   ]
  },
  {
   "cell_type": "code",
   "execution_count": 16,
   "id": "7c005f34",
   "metadata": {},
   "outputs": [
    {
     "name": "stdout",
     "output_type": "stream",
     "text": [
      "     client_id  unit_price\n",
      "820      84156    34558.07\n",
      "903      91091    30619.03\n",
      "621      66037    30164.95\n",
      "258      33615    29872.65\n",
      "319      38378    29685.22\n"
     ]
    }
   ],
   "source": [
    "# How much did each of the top 5 clients by quantity\n",
    "# spend? Check your work from Part 1 for client ids.\n",
    "\n",
    "import pandas as pd\n",
    "\n",
    "# Read the client dataset\n",
    "df = pd.read_csv('Resources/client_dataset.csv')\n",
    "\n",
    "# Calculate the total spending for each client\n",
    "client_spending = df.groupby('client_id')['unit_price'].sum().reset_index()\n",
    "\n",
    "# Sort the clients by spending in descending order and select the top 5\n",
    "top_5_clients_by_spending = client_spending.nlargest(5, 'unit_price')\n",
    "\n",
    "# Display the total spending for the top 5 clients\n",
    "print(top_5_clients_by_spending)"
   ]
  },
  {
   "cell_type": "code",
   "execution_count": 17,
   "id": "81b6e4d2",
   "metadata": {},
   "outputs": [
    {
     "name": "stdout",
     "output_type": "stream",
     "text": [
      "     client_id     qty  shipping_price  total_price_with_tax   profit\n",
      "820      84156  110813       5919781.3           15037426.11  9174.05\n",
      "621      66037   43018       1989501.5            8735311.32  8655.97\n",
      "903      91091   87950       6925020.0            9875504.35  8512.93\n",
      "350      41491   40101       1709478.1            6639809.91  8176.45\n",
      "258      33615   64313       2608560.3            6379142.56  8155.77\n"
     ]
    }
   ],
   "source": [
    "# Create a summary DataFrame showing the totals for the\n",
    "# for the top 5 clients with the following information:\n",
    "# total units purchased, total shipping price,\n",
    "# total revenue, and total profit. Sort by total profit.\n",
    "\n",
    "import pandas as pd\n",
    "\n",
    "# Read the client dataset\n",
    "df = pd.read_csv('Resources/client_dataset.csv')\n",
    "\n",
    "# Calculate the total units purchased, total shipping price, total revenue, and total profit for each client\n",
    "client_summary = df.groupby('client_id').agg({\n",
    "    'qty': 'sum',\n",
    "    'shipping_price': 'sum',  \n",
    "    'total_price_with_tax': 'sum',  \n",
    "    'profit': 'sum'\n",
    "}).reset_index()\n",
    "\n",
    "# Sort the summary DataFrame by total profit in descending order and select the top 5 clients\n",
    "top_5_clients_summary = client_summary.nlargest(5, 'profit')\n",
    "\n",
    "# Display the summary DataFrame for the top 5 clients\n",
    "print(top_5_clients_summary)"
   ]
  },
  {
   "cell_type": "code",
   "execution_count": 18,
   "id": "7be02867",
   "metadata": {},
   "outputs": [
    {
     "name": "stdout",
     "output_type": "stream",
     "text": [
      "      First Name  Last Name                Job Title        Phone Number  \\\n",
      "0         Donald    Harding             Immunologist  793-904-7725x39308   \n",
      "1        Tiffany      Myers          Music therapist    201.442.4543x942   \n",
      "2        Shannon     Watson             Immunologist   687.737.9424x8503   \n",
      "3         Nathan      Baker    Accounting technician    827-788-8123x012   \n",
      "4      Christina   Schwartz             Chiropractor        265-829-3643   \n",
      "...          ...        ...                      ...                 ...   \n",
      "54634     Lauren      Reese           Radio producer  977.877.5272x11382   \n",
      "54635    Derrick      Moore                 Musician        358.661.5483   \n",
      "54636     Monica  Gutierrez         Graphic designer    294.805.9100x339   \n",
      "54637      Wanda    Solomon             Toxicologist       (311)767-4924   \n",
      "54638     Dwayne       Bell  Chief Financial Officer   606-619-7667x9508   \n",
      "\n",
      "                             Email Address  Client ID  Order ID  Order Date  \\\n",
      "0         harding.donald.7185@sullivan.com      58515   8953482  2023-04-28   \n",
      "1        myers.t.6537@ferguson-johnson.net      37609   8069089  2023-05-19   \n",
      "2                    swatson8146@payne.net      57113   1902144  2023-01-29   \n",
      "3                   bakernathan@benson.com      46554   9031802  2023-04-25   \n",
      "4      christinaschwartz9252@mcconnell.com      92089   1322274  2023-05-28   \n",
      "...                                    ...        ...       ...         ...   \n",
      "54634   late_reese_4081@montoya-chavez.org      29043   9021716  2023-04-26   \n",
      "54635         derrick.moore.2602@pope.info      41908   6290153  2023-02-08   \n",
      "54636            gutierrezm3195@morris.org      35176   8692622  2023-03-05   \n",
      "54637            solomonwanda5962@ross.org      24485   7592730  2023-01-18   \n",
      "54638                     belld@galvan.com      24007   7489403  2023-01-04   \n",
      "\n",
      "       Order Week  Order Year  ... Unit Weight Quantity Line Number  Profit  \\\n",
      "0              17        2023  ...        7.50      105           1  334.09   \n",
      "1              20        2023  ...        1.49       21           0    9.86   \n",
      "2               4        2023  ...        1.68       39           6    5.66   \n",
      "3              17        2023  ...        1.23       29           3   11.57   \n",
      "4              21        2023  ...       46.43       20           1   86.93   \n",
      "...           ...         ...  ...         ...      ...         ...     ...   \n",
      "54634          17        2023  ...        2.25       33           8   31.53   \n",
      "54635           6        2023  ...       11.70       47           0   31.13   \n",
      "54636           9        2023  ...        4.16      475           6    8.35   \n",
      "54637           3        2023  ...       18.04      112           0    0.26   \n",
      "54638           1        2023  ...        2.07     1031           5    1.40   \n",
      "\n",
      "        Subtotal  Total Price with Tax  shipping_cost_per_pound  \\\n",
      "0      115164.00             125816.67                       10   \n",
      "1         523.95                572.42                       10   \n",
      "2         527.28                576.05                       10   \n",
      "3        1056.18               1153.88                       10   \n",
      "4        3902.00               4262.94                       10   \n",
      "...          ...                   ...                      ...   \n",
      "54634    2743.29               2997.04                       10   \n",
      "54635    9709.73              10607.88                       10   \n",
      "54636   31188.50              34073.44                       10   \n",
      "54637     165.76                181.09                       10   \n",
      "54638    3103.31               3390.37                       10   \n",
      "\n",
      "       Shipping Price  Profit (Million $)  Total Price with Tax (Million $)  \n",
      "0              7875.0        3.340900e-04                          0.125817  \n",
      "1               312.9        9.860000e-06                          0.000572  \n",
      "2               655.2        5.660000e-06                          0.000576  \n",
      "3               356.7        1.157000e-05                          0.001154  \n",
      "4              9286.0        8.693000e-05                          0.004263  \n",
      "...               ...                 ...                               ...  \n",
      "54634           742.5        3.153000e-05                          0.002997  \n",
      "54635          5499.0        3.113000e-05                          0.010608  \n",
      "54636         19760.0        8.350000e-06                          0.034073  \n",
      "54637         20204.8        2.600000e-07                          0.000181  \n",
      "54638         21341.7        1.400000e-06                          0.003390  \n",
      "\n",
      "[54639 rows x 25 columns]\n"
     ]
    }
   ],
   "source": [
    "# Format the data and rename the columns\n",
    "# to names suitable for presentation.\n",
    "# Currency should be in millions of dollars.\n",
    "\n",
    "import pandas as pd\n",
    "\n",
    "# Read the client dataset\n",
    "df = pd.read_csv('Resources/client_dataset.csv')\n",
    "\n",
    "# Convert the profit and total_price_with_tax to millions of dollars\n",
    "df['profit_million'] = df['profit'] / 1000000\n",
    "df['total_price_with_tax_million'] = df['total_price_with_tax'] / 1000000\n",
    "\n",
    "# Rename the columns for presentation\n",
    "df = df.rename(columns={\n",
    "    'first': 'First Name',\n",
    "    'last': 'Last Name',\n",
    "    'job': 'Job Title',\n",
    "    'phone': 'Phone Number',\n",
    "    'email': 'Email Address',\n",
    "    'client_id': 'Client ID',\n",
    "    'order_id': 'Order ID',\n",
    "    'order_date': 'Order Date',\n",
    "    'order_week': 'Order Week',\n",
    "    'order_year': 'Order Year',\n",
    "    'item_id': 'Item ID',\n",
    "    'category': 'Category',\n",
    "    'subcategory': 'Subcategory',\n",
    "    'unit_price': 'Unit Price',\n",
    "    'unit_cost': 'Unit Cost',\n",
    "    'unit_weight': 'Unit Weight',\n",
    "    'qty': 'Quantity',\n",
    "    'line_number': 'Line Number',\n",
    "    'profit': 'Profit',\n",
    "    'subtotal': 'Subtotal',\n",
    "    'total_price_with_tax': 'Total Price with Tax',\n",
    "    'shipping_price': 'Shipping Price',\n",
    "    'profit_million': 'Profit (Million $)',\n",
    "    'total_price_with_tax_million': 'Total Price with Tax (Million $)'\n",
    "})\n",
    "\n",
    "# Print the formatted and renamed DataFrame\n",
    "print(df)\n",
    "\n",
    "# Export the formatted and renamed DataFrame to a new CSV file\n",
    "df.to_csv('formatted_client_dataset.csv', index=False)\n"
   ]
  },
  {
   "cell_type": "code",
   "execution_count": 19,
   "id": "8ead0986",
   "metadata": {},
   "outputs": [
    {
     "name": "stdout",
     "output_type": "stream",
     "text": [
      "      First Name   Last Name                                Job Title  \\\n",
      "41156      James      Atkins                             Sports coach   \n",
      "13302       Mary     Bradley                 Radiographer, diagnostic   \n",
      "49305       Gail        Levy                          Hospital doctor   \n",
      "24211    Lindsey    Robinson                            Media planner   \n",
      "27224      Sarah  Richardson      Exhibitions officer, museum/gallery   \n",
      "...          ...         ...                                      ...   \n",
      "24318      Linda   Henderson  Scientist, research (physical sciences)   \n",
      "6378     Michael     Johnson    Senior tax professional/tax inspector   \n",
      "49036    Charles       Brown              Industrial/product designer   \n",
      "45105      Julie     Simmons                                Solicitor   \n",
      "27906     Ashley        Reid                                     Make   \n",
      "\n",
      "       Total Price with Tax (Million $)  Shipping Price  Profit (Million $)  \n",
      "41156                      2.181295e-01         13627.9             0.00055  \n",
      "13302                      2.730433e-01         17058.7             0.00055  \n",
      "49305                      1.708427e-01         10673.6             0.00055  \n",
      "24211                      2.410102e-01         15057.4             0.00055  \n",
      "27224                      1.327082e-01          8291.1             0.00055  \n",
      "...                                 ...             ...                 ...  \n",
      "24318                      4.200000e-07          3055.2             0.00000  \n",
      "6378                       7.240000e-06         53305.2             0.00000  \n",
      "49036                      5.400000e-07          3939.6             0.00000  \n",
      "45105                      1.023000e-05         75254.4             0.00000  \n",
      "27906                      2.500000e-07          1849.2             0.00000  \n",
      "\n",
      "[54639 rows x 6 columns]\n"
     ]
    }
   ],
   "source": [
    "# Sort the updated data by \"Total Profit\" form highest to lowest\n",
    "import pandas as pd\n",
    "\n",
    "# Read the updated client dataset\n",
    "df = pd.read_csv('formatted_client_dataset.csv')\n",
    "\n",
    "# Sort the DataFrame by \"Profit (Million $)\" in descending order\n",
    "sorted_df = df.sort_values(by='Profit (Million $)', ascending=False)\n",
    "\n",
    "# Print the sorted DataFrame including the \"Total Profit\" column\n",
    "print(sorted_df[['First Name', 'Last Name', 'Job Title', 'Total Price with Tax (Million $)', 'Shipping Price', 'Profit (Million $)']])\n",
    "\n",
    "# Export the sorted DataFrame to a new CSV file\n",
    "sorted_df.to_csv('sorted_client_dataset.csv', index=False)"
   ]
  }
 ],
 "metadata": {
  "kernelspec": {
   "display_name": "Python 3 (ipykernel)",
   "language": "python",
   "name": "python3"
  },
  "language_info": {
   "codemirror_mode": {
    "name": "ipython",
    "version": 3
   },
   "file_extension": ".py",
   "mimetype": "text/x-python",
   "name": "python",
   "nbconvert_exporter": "python",
   "pygments_lexer": "ipython3",
   "version": "3.10.13"
  },
  "widgets": {
   "application/vnd.jupyter.widget-state+json": {
    "state": {},
    "version_major": 2,
    "version_minor": 0
   }
  }
 },
 "nbformat": 4,
 "nbformat_minor": 5
}
